{
 "cells": [
  {
   "cell_type": "markdown",
   "metadata": {},
   "source": [
    "### Import packages"
   ]
  },
  {
   "cell_type": "code",
   "execution_count": 1,
   "metadata": {},
   "outputs": [],
   "source": [
    "import os\n",
    "import numpy as np\n",
    "import torch\n",
    "import torch.nn as nn\n",
    "from tqdm import tqdm\n",
    "import glob\n",
    "import time\n",
    "import pandas as pd\n",
    "from torch.utils.data import Dataset\n",
    "from torch.utils.data import DataLoader"
   ]
  },
  {
   "cell_type": "markdown",
   "metadata": {},
   "source": [
    "Check if have cuda device (GPU)"
   ]
  },
  {
   "cell_type": "code",
   "execution_count": 2,
   "metadata": {},
   "outputs": [
    {
     "name": "stdout",
     "output_type": "stream",
     "text": [
      "use cuda\n"
     ]
    }
   ],
   "source": [
    "device = \"cuda\" if torch.cuda.is_available() else \"cpu\"\n",
    "print(\"use\", device)"
   ]
  },
  {
   "cell_type": "markdown",
   "metadata": {},
   "source": [
    "### ML model"
   ]
  },
  {
   "cell_type": "code",
   "execution_count": 3,
   "metadata": {},
   "outputs": [],
   "source": [
    "class Model(nn.Module):\n",
    "\tdef __init__(self, n_input = 90, n_hidden = 128, num_layers=1, n_classes = 7):\n",
    "\t\tsuper(Model, self).__init__()\n",
    "\t\t\t\n",
    "\t\tself.rnn = nn.LSTM(input_size=n_input, hidden_size=n_hidden, num_layers=num_layers, batch_first=True, bidirectional=False)\n",
    "\t\tself.classifier = nn.Sequential(\n",
    "\t\t\tnn.Linear(n_hidden, n_classes)\n",
    "\t\t)\n",
    "\n",
    "\tdef forward(self, x):\n",
    "\t\t# (batch_size, n_steps, n_input)\n",
    "\t\tx, _ = self.rnn(x)\n",
    "\t\tx = self.classifier(x[:, -1, :])\n",
    "\t\treturn x"
   ]
  },
  {
   "cell_type": "markdown",
   "metadata": {},
   "source": [
    "### Dataset\n",
    "\n",
    "Prepare dataset for training"
   ]
  },
  {
   "cell_type": "code",
   "execution_count": 4,
   "metadata": {},
   "outputs": [],
   "source": [
    "class CSIDataset(Dataset):\n",
    "\tdef __init__(\n",
    "\t\t\tself, \n",
    "\t\t\tset, # fns for this split\n",
    "\t\t\tprocessed_path=\"./Dataset/Processed/\", \n",
    "\t\t\tuse_processed=True, \n",
    "\t\t\tsplit=\"train\",\n",
    "\t\t\twindow_size=1000, \n",
    "\t\t\tthreshold=60, \n",
    "\t\t\tslide_size=200\n",
    "\t\t\t):\n",
    "\t\tself.window_size = window_size\n",
    "\t\tself.threshold = threshold\n",
    "\t\tself.slide_size = slide_size\n",
    "\t\t# fix seed for reproduce\n",
    "\t\t# np.random.seed(0)\n",
    "\n",
    "\t\t# create processed data directory\n",
    "\t\tif not os.path.isdir(os.path.join(processed_path)):\n",
    "\t\t\tos.makedirs(os.path.join(processed_path))\n",
    "\n",
    "\t\t# read and concat all data\n",
    "\t\tself.csi = []\n",
    "\t\tself.label = []\n",
    "\t\tfor i, label in enumerate ([\"bed\", \"fall\", \"pickup\", \"run\", \"sitdown\", \"standup\", \"walk\"]):\n",
    "\t\t\toutput_csi_fn = os.path.join(processed_path, split + \"_\" + label + \"_csi.csv\")\n",
    "\t\t\toutput_label_fn = os.path.join(processed_path, split + \"_\" + label + \"_label.csv\")\n",
    "\t\t\t# use processed, don't need to process again\n",
    "\t\t\tif use_processed and os.path.isfile(output_csi_fn) and os.path.isfile(output_label_fn):\n",
    "\t\t\t\tx = pd.read_csv(\n",
    "\t\t\t\t\toutput_csi_fn, \n",
    "\t\t\t\t\theader=None, \n",
    "\t\t\t\t\tengine=\"c\"\n",
    "\t\t\t\t\t).to_numpy().reshape((-1, self.window_size, 90))\n",
    "\t\t\t\ty = pd.read_csv(\n",
    "\t\t\t\t\toutput_label_fn, \n",
    "\t\t\t\t\theader=None, \n",
    "\t\t\t\t\tengine=\"c\"\n",
    "\t\t\t\t\t).to_numpy()\n",
    "\t\t\telse:\n",
    "\t\t\t\t# else, process now\n",
    "\t\t\t\tprint(\"No processed\", label, \"found, start process\")\n",
    "\t\t\t\tx = []\n",
    "\t\t\t\ty = []\n",
    "\t\t\t\tinput_csv_files = set[label]['csi']\n",
    "\t\t\t\tannotation_csv_files = set[label]['label']\n",
    "\t\t\t\tfor i in range(len(input_csv_files)):\n",
    "\t\t\t\t\tif not int(input_csv_files[i].split('input_')[1].split('.csv')[0].split('_')[-1]) == int(annotation_csv_files[i].split('annotation_')[1].split('.csv')[0].split('_')[-1]):\n",
    "\t\t\t\t\t\t# file name of input and annotation(label) not match\n",
    "\t\t\t\t\t\traise \"error\"\n",
    "\t\t\t\t\telse:\n",
    "\t\t\t\t\t\tx_, y_ = self.process_data(input_csv_files[i], annotation_csv_files[i])\n",
    "\t\t\t\t\t\tx.append(x_)\n",
    "\t\t\t\t\t\ty.append(y_)\n",
    "\t\t\t\tx = np.concatenate(x, axis=0)\n",
    "\t\t\t\ty = np.concatenate(y, axis=0)\n",
    "\n",
    "\t\t\t\t# shuffle x and y together\n",
    "\t\t\t\t# idxs = np.arange(x.shape[0])\n",
    "\t\t\t\t# np.random.shuffle(idxs)\n",
    "\t\t\t\t# x = x[idxs]\n",
    "\t\t\t\t# y = y[idxs]\n",
    "\n",
    "\t\t\t\t# save to file for the future use\n",
    "\t\t\t\tnp.savetxt(output_csi_fn, x.reshape((-1, self.window_size * 90)), delimiter = \",\", fmt='%.4f')\n",
    "\t\t\t\tnp.savetxt(output_label_fn, y, delimiter = \",\", fmt='%d')\n",
    "\t\t\tself.csi.append(x)\n",
    "\t\t\tself.label.append(y)\n",
    "\t\t\tprint(\"finish\", label)\n",
    "\t\tself.csi = np.concatenate(self.csi, axis=0)\n",
    "\t\tself.label = np.concatenate(self.label, axis=0)\n",
    "\t\tself.label = np.squeeze(self.label)\n",
    "\t\t# some statistic information\n",
    "\t\tunique, counts = np.unique(self.label, return_counts=True)\n",
    "\t\tprint(dict(zip(unique, counts)))\n",
    "\n",
    "\tdef process_data(self, csi_fn, label_fn):\n",
    "\t\tcsi_raw = pd.read_csv(\n",
    "\t\t\tcsi_fn, \n",
    "\t\t\theader=None, \n",
    "\t\t\tengine=\"c\"\n",
    "\t\t\t).to_numpy()\n",
    "\t\t#data import by slide window\n",
    "\t\tk = 0\n",
    "\t\tx_list = []\n",
    "\t\twhile k <= (len(csi_raw) + 1 - 2 * self.window_size):\n",
    "\t\t\t# for each row\n",
    "\t\t\t# 0: time\n",
    "\t\t\t# 1~91: amplitude\n",
    "\t\t\t# 91: 181: phase\n",
    "\t\t\tsingle_window = np.array(csi_raw[k:k + self.window_size, 1:91])\n",
    "\t\t\tx_list.append(single_window)\n",
    "\t\t\tk += self.slide_size\n",
    "\t\tx = np.dstack(x_list)\n",
    "\t\t# (window_size, feature, # samples)\n",
    "\t\tx = np.transpose(x, [2, 0, 1])\n",
    "\n",
    "\t\tlabel_raw = pd.read_csv(\n",
    "\t\t\tlabel_fn, \n",
    "\t\t\theader=None, \n",
    "\t\t\tengine=\"c\"\n",
    "\t\t\t).to_numpy()\n",
    "\t\t#data import by slide window\n",
    "\t\tk = 0\n",
    "\t\ty_list = []\n",
    "\t\twhile k <= (len(label_raw) + 1 - 2 * self.window_size):\n",
    "\t\t\tsingle_window = label_raw[k:k + self.window_size]\n",
    "\t\t\tbed = 0\n",
    "\t\t\tfall = 0\n",
    "\t\t\twalk = 0\n",
    "\t\t\tpickup = 0\n",
    "\t\t\trun = 0\n",
    "\t\t\tsitdown = 0\n",
    "\t\t\tstandup = 0\n",
    "\t\t\tnoactivity = 0\n",
    "\t\t\tfor j in range(self.window_size):\n",
    "\t\t\t\tif single_window[j] == \"bed\":\n",
    "\t\t\t\t\tbed += 1\n",
    "\t\t\t\telif single_window[j] == \"fall\":\n",
    "\t\t\t\t\tfall += 1\n",
    "\t\t\t\telif single_window[j] == \"pickup\":\n",
    "\t\t\t\t\tpickup += 1\n",
    "\t\t\t\telif single_window[j] == \"run\":\n",
    "\t\t\t\t\trun += 1\n",
    "\t\t\t\telif single_window[j] == \"sitdown\":\n",
    "\t\t\t\t\tsitdown += 1\n",
    "\t\t\t\telif single_window[j] == \"standup\":\n",
    "\t\t\t\t\tstandup += 1\n",
    "\t\t\t\telif single_window[j] == \"walk\":\n",
    "\t\t\t\t\twalk += 1\n",
    "\t\t\t\telse:\n",
    "\t\t\t\t\tnoactivity += 1\n",
    "\n",
    "\t\t\tif bed > self.window_size * self.threshold / 100:\n",
    "\t\t\t\ty_list.append(0)\n",
    "\t\t\telif fall > self.window_size * self.threshold / 100:\n",
    "\t\t\t\ty_list.append(1)\n",
    "\t\t\telif pickup > self.window_size * self.threshold / 100:\n",
    "\t\t\t\ty_list.append(2)\n",
    "\t\t\telif run > self.window_size * self.threshold / 100:\n",
    "\t\t\t\ty_list.append(3)\n",
    "\t\t\telif sitdown > self.window_size * self.threshold / 100:\n",
    "\t\t\t\ty_list.append(4)\n",
    "\t\t\telif standup > self.window_size * self.threshold / 100:\n",
    "\t\t\t\ty_list.append(5)\n",
    "\t\t\telif walk > self.window_size * self.threshold / 100:\n",
    "\t\t\t\ty_list.append(6)\n",
    "\t\t\telse:\n",
    "\t\t\t\ty_list.append(-1)\n",
    "\t\t\tk += self.slide_size\n",
    "\t\ty = np.array(y_list)\n",
    "\n",
    "\t\t# remove no activity\n",
    "\t\tmask = y != -1\n",
    "\t\tx = x[mask]\n",
    "\t\ty = y[mask]\n",
    "\t\treturn x, y\n",
    "\n",
    "\tdef __len__(self):\n",
    "\t\treturn self.csi.shape[0]\n",
    "\t\n",
    "\tdef __getitem__(self, idx):\n",
    "\t\treturn torch.tensor(self.csi[idx], dtype=torch.float), \\\n",
    "\t\t\ttorch.tensor(self.label[idx], dtype=torch.long)"
   ]
  },
  {
   "cell_type": "markdown",
   "metadata": {},
   "source": [
    "### Configs"
   ]
  },
  {
   "cell_type": "code",
   "execution_count": 5,
   "metadata": {},
   "outputs": [],
   "source": [
    "# Parameters\n",
    "input_path = \"./Dataset/Data/\"\n",
    "processed_path = \"./Dataset/Processed/\"\n",
    "use_processed = False\n",
    "window_size = 500\n",
    "threshold = 40\n",
    "slide_size = 400\n",
    "\n",
    "learning_rate = 0.00001\n",
    "training_epos = 2000\n",
    "batch_size = 128\n",
    "display_epo = 50\n",
    "\n",
    "model = Model()"
   ]
  },
  {
   "cell_type": "markdown",
   "metadata": {},
   "source": [
    "### Split train/valid/test file-wise"
   ]
  },
  {
   "cell_type": "code",
   "execution_count": 6,
   "metadata": {},
   "outputs": [],
   "source": [
    "train_ratio = 0.7\n",
    "valid_ratio = 0.2\n",
    "test_ratio = 0.1\n",
    "\n",
    "train_set_fns = {}\n",
    "valid_set_fns = {}\n",
    "test_set_fns = {}\n",
    "\n",
    "def shuffle_and_split(csi_files, label_files, train_ratio, valid_ratio, test_ratio):\n",
    "\tnum_files = len(csi_files)\n",
    "\tidxs = np.arange(num_files)\n",
    "\tnp.random.shuffle(idxs)\n",
    "\tidx1 = int(num_files * train_ratio)\n",
    "\tidx2 = int(num_files * (train_ratio + valid_ratio))\n",
    "\ttrain_csi_fns = csi_files[:idx1]\n",
    "\ttrain_label_fns = label_files[:idx1]\n",
    "\tvalid_csi_fns = csi_files[idx1:idx2]\n",
    "\tvalid_label_fns = label_files[idx1:idx2]\n",
    "\ttest_csi_fns = csi_files[idx2:]\n",
    "\ttest_label_fns = label_files[idx2:]\n",
    "\treturn train_csi_fns, valid_csi_fns, test_csi_fns, \\\n",
    "\t\ttrain_label_fns, valid_label_fns, test_label_fns\n",
    "\n",
    "for i, label in enumerate ([\"bed\", \"fall\", \"pickup\", \"run\", \"sitdown\", \"standup\", \"walk\"]):\n",
    "\ttrain_set_fns[label] = {'csi': [], 'label': []}\n",
    "\tvalid_set_fns[label] = {'csi': [], 'label': []}\n",
    "\ttest_set_fns[label] = {'csi': [], 'label': []}\n",
    "\tfilepath1 = os.path.join(input_path, \"input_*\" + str(label) + \"*.csv\")\n",
    "\tfilepath2 = os.path.join(input_path, \"annotation_*\" + str(label) + \"*.csv\")\n",
    "\tinput_csv_files = sorted(glob.glob(filepath1))\n",
    "\tannotation_csv_files = sorted(glob.glob(filepath2))\n",
    "\t# Because naming in the data are inconsistent, we process three part separately.\n",
    "\tinput_csv_files_sankalp = [fn for fn in input_csv_files if \"sankalp\" in fn]\n",
    "\tannotation_csv_files_sankalp = [fn for fn in annotation_csv_files if \"sankalp\" in fn]\n",
    "\ttrain_csi_fns, valid_csi_fns, test_csi_fns, train_label_fns, valid_label_fns, test_label_fns \\\n",
    "\t\t= shuffle_and_split(input_csv_files_sankalp, annotation_csv_files_sankalp, train_ratio, valid_ratio, test_ratio)\n",
    "\ttrain_set_fns[label]['csi'] += train_csi_fns\n",
    "\ttrain_set_fns[label]['label'] += train_label_fns\n",
    "\tvalid_set_fns[label]['csi'] += valid_csi_fns\n",
    "\tvalid_set_fns[label]['label'] += valid_label_fns\n",
    "\ttest_set_fns[label]['csi'] += test_csi_fns\n",
    "\ttest_set_fns[label]['label'] += test_label_fns\n",
    "\tinput_csv_files_siamak = [fn for fn in input_csv_files if \"siamak\" in fn]\n",
    "\tannotation_csv_files_siamak = [fn for fn in annotation_csv_files if \"siamak\" in fn]\n",
    "\ttrain_csi_fns, valid_csi_fns, test_csi_fns, train_label_fns, valid_label_fns, test_label_fns \\\n",
    "\t\t= shuffle_and_split(input_csv_files_siamak, annotation_csv_files_siamak, train_ratio, valid_ratio, test_ratio)\n",
    "\ttrain_set_fns[label]['csi'] += train_csi_fns\n",
    "\ttrain_set_fns[label]['label'] += train_label_fns\n",
    "\tvalid_set_fns[label]['csi'] += valid_csi_fns\n",
    "\tvalid_set_fns[label]['label'] += valid_label_fns\n",
    "\ttest_set_fns[label]['csi'] += test_csi_fns\n",
    "\ttest_set_fns[label]['label'] += test_label_fns\n",
    "\tinput_csv_files_date = [fn for fn in input_csv_files if (\"siamak\" not in fn and \"sankalp\" not in fn)]\n",
    "\tannotation_csv_files_date = [fn for fn in annotation_csv_files if (\"siamak\" not in fn and \"sankalp\" not in fn)]\n",
    "\ttrain_csi_fns, valid_csi_fns, test_csi_fns, train_label_fns, valid_label_fns, test_label_fns \\\n",
    "\t\t= shuffle_and_split(input_csv_files_date, annotation_csv_files_date, train_ratio, valid_ratio, test_ratio)\n",
    "\ttrain_set_fns[label]['csi'] += train_csi_fns\n",
    "\ttrain_set_fns[label]['label'] += train_label_fns\n",
    "\tvalid_set_fns[label]['csi'] += valid_csi_fns\n",
    "\tvalid_set_fns[label]['label'] += valid_label_fns\n",
    "\ttest_set_fns[label]['csi'] += test_csi_fns\n",
    "\ttest_set_fns[label]['label'] += test_label_fns\n",
    "\t# print(label)\n",
    "\t# print(\"csi  : train:\", len(train_set[label]['csi']), \", valid:\", len(valid_set[label]['csi']), \", test:\", len(test_set[label]['csi']))\n",
    "\t# print(\"label: train:\", len(train_set[label]['label']), \", valid:\", len(valid_set[label]['label']), \", test:\", len(test_set[label]['label']))\n",
    "# print"
   ]
  },
  {
   "cell_type": "markdown",
   "metadata": {},
   "source": [
    "Dataset instance\n",
    "\n",
    "training set and testing set"
   ]
  },
  {
   "cell_type": "code",
   "execution_count": 7,
   "metadata": {},
   "outputs": [
    {
     "name": "stdout",
     "output_type": "stream",
     "text": [
      "No processed bed found, start process\n"
     ]
    },
    {
     "name": "stdout",
     "output_type": "stream",
     "text": [
      "finish bed\n",
      "No processed fall found, start process\n",
      "finish fall\n",
      "No processed pickup found, start process\n",
      "finish pickup\n",
      "No processed run found, start process\n",
      "finish run\n",
      "No processed sitdown found, start process\n",
      "finish sitdown\n",
      "No processed standup found, start process\n",
      "finish standup\n",
      "No processed walk found, start process\n",
      "finish walk\n",
      "{0: 484, 1: 351, 2: 355, 3: 823, 4: 348, 5: 252, 6: 1066}\n",
      "No processed bed found, start process\n",
      "finish bed\n",
      "No processed fall found, start process\n",
      "finish fall\n",
      "No processed pickup found, start process\n",
      "finish pickup\n",
      "No processed run found, start process\n",
      "finish run\n",
      "No processed sitdown found, start process\n",
      "finish sitdown\n",
      "No processed standup found, start process\n",
      "finish standup\n",
      "No processed walk found, start process\n",
      "finish walk\n",
      "{0: 150, 1: 101, 2: 117, 3: 278, 4: 79, 5: 70, 6: 280}\n",
      "No processed bed found, start process\n",
      "finish bed\n",
      "No processed fall found, start process\n",
      "finish fall\n",
      "No processed pickup found, start process\n",
      "finish pickup\n",
      "No processed run found, start process\n",
      "finish run\n",
      "No processed sitdown found, start process\n",
      "finish sitdown\n",
      "No processed standup found, start process\n",
      "finish standup\n",
      "No processed walk found, start process\n",
      "finish walk\n",
      "{0: 78, 1: 53, 2: 74, 3: 169, 4: 46, 5: 36, 6: 180}\n"
     ]
    }
   ],
   "source": [
    "train_set = CSIDataset(\n",
    "split=\"train\", \n",
    "window_size=window_size, \n",
    "threshold=threshold, \n",
    "slide_size=slide_size, \n",
    "use_processed=use_processed, \n",
    "set=train_set_fns,\n",
    "processed_path=processed_path\n",
    ")\n",
    "valid_set = CSIDataset(\n",
    "split=\"valid\", \n",
    "window_size=window_size, \n",
    "threshold=threshold, \n",
    "slide_size=slide_size, \n",
    "use_processed=use_processed, \n",
    "set=valid_set_fns,\n",
    "processed_path=processed_path\n",
    ")\n",
    "test_set = CSIDataset(\n",
    "split=\"test\", \n",
    "window_size=window_size, \n",
    "threshold=threshold, \n",
    "slide_size=slide_size, \n",
    "use_processed=use_processed, \n",
    "set=test_set_fns,\n",
    "processed_path=processed_path\n",
    ")"
   ]
  },
  {
   "cell_type": "markdown",
   "metadata": {},
   "source": [
    "### Dataloader, loss function and optimizer"
   ]
  },
  {
   "cell_type": "code",
   "execution_count": 8,
   "metadata": {},
   "outputs": [],
   "source": [
    "model.to(device)\n",
    "train_dataloader = DataLoader(train_set, batch_size=batch_size, num_workers=0, shuffle=True)\n",
    "valid_dataloader = DataLoader(valid_set, batch_size=batch_size, num_workers=0, shuffle=False)\n",
    "test_dataloader = DataLoader(test_set, batch_size=batch_size, num_workers=0, shuffle=False)\n",
    "\n",
    "criterion = nn.CrossEntropyLoss().to(device)\n",
    "optimizer = torch.optim.Adam(model.parameters(), lr=learning_rate)\n"
   ]
  },
  {
   "cell_type": "markdown",
   "metadata": {},
   "source": [
    "### Training main loop"
   ]
  },
  {
   "cell_type": "code",
   "execution_count": 9,
   "metadata": {},
   "outputs": [
    {
     "name": "stderr",
     "output_type": "stream",
     "text": [
      "                                               \r"
     ]
    },
    {
     "name": "stdout",
     "output_type": "stream",
     "text": [
      "epo:  900 , train: 0.002572270041900214 , acc:  91.25 , valid: 0.01251925321512444 , acc:  62.05 , time: 0.01\n"
     ]
    },
    {
     "name": "stderr",
     "output_type": "stream",
     "text": [
      "                                               \r"
     ]
    },
    {
     "name": "stdout",
     "output_type": "stream",
     "text": [
      "epo:  950 , train: 0.002409834107908097 , acc:  91.36 , valid: 0.01252647599508596 , acc:  61.02 , time: 0.009\n"
     ]
    },
    {
     "name": "stderr",
     "output_type": "stream",
     "text": [
      "                                               \r"
     ]
    },
    {
     "name": "stdout",
     "output_type": "stream",
     "text": [
      "epo:  1000 , train: 0.002152598347311339 , acc:  92.28 , valid: 0.012333669246629228 , acc:  62.6 , time: 0.011\n"
     ]
    },
    {
     "name": "stderr",
     "output_type": "stream",
     "text": [
      "                                               \r"
     ]
    },
    {
     "name": "stdout",
     "output_type": "stream",
     "text": [
      "epo:  1050 , train: 0.002081197928753713 , acc:  92.69 , valid: 0.012297694655351861 , acc:  62.51 , time: 0.012\n"
     ]
    },
    {
     "name": "stderr",
     "output_type": "stream",
     "text": [
      "                                               \r"
     ]
    },
    {
     "name": "stdout",
     "output_type": "stream",
     "text": [
      "epo:  1100 , train: 0.0018946209309314314 , acc:  93.5 , valid: 0.012024847074996594 , acc:  63.35 , time: 0.011\n"
     ]
    },
    {
     "name": "stderr",
     "output_type": "stream",
     "text": [
      "                                               \r"
     ]
    },
    {
     "name": "stdout",
     "output_type": "stream",
     "text": [
      "epo:  1150 , train: 0.0017998462062421199 , acc:  93.56 , valid: 0.011993593781493431 , acc:  64.47 , time: 0.011\n"
     ]
    },
    {
     "name": "stderr",
     "output_type": "stream",
     "text": [
      "                                               \r"
     ]
    },
    {
     "name": "stdout",
     "output_type": "stream",
     "text": [
      "epo:  1200 , train: 0.0016566261337256426 , acc:  94.4 , valid: 0.011958065199297528 , acc:  64.65 , time: 0.011\n"
     ]
    },
    {
     "name": "stderr",
     "output_type": "stream",
     "text": [
      "                                               \r"
     ]
    },
    {
     "name": "stdout",
     "output_type": "stream",
     "text": [
      "epo:  1250 , train: 0.0016007170154044537 , acc:  94.43 , valid: 0.012135524929955949 , acc:  65.49 , time: 0.011\n"
     ]
    },
    {
     "name": "stderr",
     "output_type": "stream",
     "text": [
      "                                               \r"
     ]
    },
    {
     "name": "stdout",
     "output_type": "stream",
     "text": [
      "epo:  1300 , train: 0.0014804769778225726 , acc:  94.75 , valid: 0.012064341833425123 , acc:  65.02 , time: 0.011\n"
     ]
    },
    {
     "name": "stderr",
     "output_type": "stream",
     "text": [
      "                                               \r"
     ]
    },
    {
     "name": "stdout",
     "output_type": "stream",
     "text": [
      "epo:  1350 , train: 0.0014004166576971856 , acc:  95.08 , valid: 0.012245115513025328 , acc:  63.53 , time: 0.011\n"
     ]
    },
    {
     "name": "stderr",
     "output_type": "stream",
     "text": [
      "                                               \r"
     ]
    },
    {
     "name": "stdout",
     "output_type": "stream",
     "text": [
      "epo:  1400 , train: 0.0013160739852443083 , acc:  95.35 , valid: 0.012600038689236308 , acc:  64.09 , time: 0.011\n"
     ]
    },
    {
     "name": "stderr",
     "output_type": "stream",
     "text": [
      "                                               \r"
     ]
    },
    {
     "name": "stdout",
     "output_type": "stream",
     "text": [
      "epo:  1450 , train: 0.001239715704502506 , acc:  95.68 , valid: 0.012612746870794962 , acc:  64.56 , time: 0.011\n"
     ]
    },
    {
     "name": "stderr",
     "output_type": "stream",
     "text": [
      "                                               \r"
     ]
    },
    {
     "name": "stdout",
     "output_type": "stream",
     "text": [
      "epo:  1500 , train: 0.001177699605094638 , acc:  95.9 , valid: 0.012914636620255405 , acc:  63.44 , time: 0.011\n"
     ]
    },
    {
     "name": "stderr",
     "output_type": "stream",
     "text": [
      "                                               \r"
     ]
    },
    {
     "name": "stdout",
     "output_type": "stream",
     "text": [
      "epo:  1550 , train: 0.0011155155203076087 , acc:  96.0 , valid: 0.012892038849897163 , acc:  64.84 , time: 0.013\n"
     ]
    },
    {
     "name": "stderr",
     "output_type": "stream",
     "text": [
      "                                               \r"
     ]
    },
    {
     "name": "stdout",
     "output_type": "stream",
     "text": [
      "epo:  1600 , train: 0.0010391216078070916 , acc:  96.28 , valid: 0.013300603822220203 , acc:  64.19 , time: 0.012\n"
     ]
    },
    {
     "name": "stderr",
     "output_type": "stream",
     "text": [
      "                                               \r"
     ]
    },
    {
     "name": "stdout",
     "output_type": "stream",
     "text": [
      "epo:  1650 , train: 0.000980447769189341 , acc:  96.71 , valid: 0.013145226545112078 , acc:  64.28 , time: 0.01\n"
     ]
    },
    {
     "name": "stderr",
     "output_type": "stream",
     "text": [
      "                                               \r"
     ]
    },
    {
     "name": "stdout",
     "output_type": "stream",
     "text": [
      "epo:  1700 , train: 0.0009349568033872917 , acc:  96.87 , valid: 0.013394672482512719 , acc:  63.53 , time: 0.01\n"
     ]
    },
    {
     "name": "stderr",
     "output_type": "stream",
     "text": [
      "                                               \r"
     ]
    },
    {
     "name": "stdout",
     "output_type": "stream",
     "text": [
      "epo:  1750 , train: 0.0008863368661191743 , acc:  97.12 , valid: 0.012970451975977699 , acc:  65.86 , time: 0.01\n"
     ]
    },
    {
     "name": "stderr",
     "output_type": "stream",
     "text": [
      "                                               \r"
     ]
    },
    {
     "name": "stdout",
     "output_type": "stream",
     "text": [
      "epo:  1800 , train: 0.0008382629537329656 , acc:  97.17 , valid: 0.013400132046189419 , acc:  63.63 , time: 0.01\n"
     ]
    },
    {
     "name": "stderr",
     "output_type": "stream",
     "text": [
      "                                               \r"
     ]
    },
    {
     "name": "stdout",
     "output_type": "stream",
     "text": [
      "epo:  1850 , train: 0.0007888513198767903 , acc:  97.47 , valid: 0.013554447390312372 , acc:  63.91 , time: 0.01\n"
     ]
    },
    {
     "name": "stderr",
     "output_type": "stream",
     "text": [
      "                                               \r"
     ]
    },
    {
     "name": "stdout",
     "output_type": "stream",
     "text": [
      "epo:  1900 , train: 0.0007500155664601706 , acc:  97.64 , valid: 0.013882947882940602 , acc:  64.09 , time: 0.01\n"
     ]
    },
    {
     "name": "stderr",
     "output_type": "stream",
     "text": [
      "                                               \r"
     ]
    },
    {
     "name": "stdout",
     "output_type": "stream",
     "text": [
      "epo:  1950 , train: 0.0007095190737681015 , acc:  97.83 , valid: 0.01385824716368387 , acc:  64.28 , time: 0.009\n"
     ]
    },
    {
     "name": "stderr",
     "output_type": "stream",
     "text": [
      "                                               \r"
     ]
    }
   ],
   "source": [
    "train_losses = []\n",
    "valid_losses = []\n",
    "for epoch_index in range(0, training_epos):\n",
    "    start_time = time.time()\n",
    "\n",
    "    train_loss = 0\n",
    "    model.train()\n",
    "    correct = 0\n",
    "    for batch in tqdm(train_dataloader, leave=False):\n",
    "        csi, label = batch\n",
    "        csi = csi.to(device)\n",
    "        label = label.to(device)\n",
    "\n",
    "        outputs = model(csi)\n",
    "        loss = criterion(outputs, label)\n",
    "        # calculate prediction accuracy\n",
    "        correct += torch.sum(outputs.argmax(dim=1) == label).cpu().item()\n",
    "\n",
    "        train_loss += loss.item()\n",
    "        loss.backward()\n",
    "        optimizer.step()\n",
    "\n",
    "    train_loss = train_loss / len(train_set)\n",
    "    train_accuracy = 100 * correct / len(train_set)\n",
    "    train_losses.append(train_loss)\n",
    "\n",
    "    valid_loss = 0\n",
    "    model.eval()\n",
    "    correct = 0\n",
    "    for batch in tqdm(valid_dataloader, leave=False):\n",
    "        csi, label = batch\n",
    "        csi = csi.to(device)\n",
    "        label = label.to(device)\n",
    "\n",
    "        outputs = model(csi)\n",
    "        loss = criterion(outputs, label)\n",
    "        # calculate prediction accuracy\n",
    "        correct += torch.sum(outputs.argmax(dim=1) == label).cpu().item()\n",
    "\n",
    "        valid_loss += loss.item()\n",
    "\n",
    "    valid_loss = valid_loss / len(valid_set)\n",
    "    valid_accuracy = 100 * correct / len(valid_set)\n",
    "    valid_losses.append(valid_loss)\n",
    "\n",
    "    \n",
    "    end_time = time.time()\n",
    "    if epoch_index % display_epo == 0:\n",
    "        print('epo: ', epoch_index, \n",
    "            ', train:', train_loss, ', acc: ', round(train_accuracy, 2),\n",
    "            ', valid:', valid_loss, ', acc: ', round(valid_accuracy, 2),\n",
    "            ', time:', round((end_time - start_time) / 60, 3))\n"
   ]
  },
  {
   "cell_type": "markdown",
   "metadata": {},
   "source": [
    "### Testing (on testing set)"
   ]
  },
  {
   "cell_type": "code",
   "execution_count": 12,
   "metadata": {},
   "outputs": [
    {
     "name": "stderr",
     "output_type": "stream",
     "text": [
      "                                             "
     ]
    },
    {
     "name": "stdout",
     "output_type": "stream",
     "text": [
      "test: 0.01769778216784855 , acc:  0.54 , time: 0.005\n"
     ]
    },
    {
     "name": "stderr",
     "output_type": "stream",
     "text": [
      "\r"
     ]
    }
   ],
   "source": [
    "test_label = []\n",
    "test_prediction = []\n",
    "test_loss = 0\n",
    "model.eval()\n",
    "start_time = time.time()\n",
    "for batch in tqdm(test_dataloader, leave=False):\n",
    "    csi, label = batch\n",
    "    csi = csi.to(device)\n",
    "    label = label.to(device)\n",
    "\n",
    "    outputs = model(csi)\n",
    "    loss = criterion(outputs, label)\n",
    "    test_prediction.append(outputs.argmax(dim=1).cpu().detach().numpy())\n",
    "    test_label.append(label.cpu().detach().numpy())\n",
    "\n",
    "    test_loss += loss.item()\n",
    "end_time = time.time()\n",
    "test_label = np.concatenate(test_label, axis=0)\n",
    "test_prediction = np.concatenate(test_prediction, axis=0)\n",
    "accuracy = np.sum(test_label == test_prediction) / test_label.shape[0]\n",
    "print('test:', test_loss / len(test_set),\n",
    "    ', acc: ', round(accuracy, 2),\n",
    "    ', time:', round((end_time - start_time) / 60, 3))\n",
    "confusion_matrix = np.zeros((7, 7))\n",
    "for i in range(test_label.shape[0]):\n",
    "    confusion_matrix[test_label[i], test_prediction[i]] += 1"
   ]
  },
  {
   "cell_type": "markdown",
   "metadata": {},
   "source": [
    "### Confusion matrix"
   ]
  },
  {
   "cell_type": "code",
   "execution_count": 13,
   "metadata": {},
   "outputs": [
    {
     "name": "stdout",
     "output_type": "stream",
     "text": [
      "[[ 56.   0.  12.   2.   3.   2.   3.]\n",
      " [  0.  34.   0.  19.   0.   0.   0.]\n",
      " [ 17.  10.   8.  15.   0.  10.  14.]\n",
      " [  0.  12.   8. 133.   0.   3.  13.]\n",
      " [ 26.   1.   1.   0.  12.   4.   2.]\n",
      " [  7.   4.   1.   0.   0.  21.   3.]\n",
      " [ 14.   4.   1.  58.  12.  12.  79.]]\n"
     ]
    }
   ],
   "source": [
    "print(confusion_matrix)"
   ]
  }
 ],
 "metadata": {
  "kernelspec": {
   "display_name": "test_war2",
   "language": "python",
   "name": "python3"
  },
  "language_info": {
   "codemirror_mode": {
    "name": "ipython",
    "version": 3
   },
   "file_extension": ".py",
   "mimetype": "text/x-python",
   "name": "python",
   "nbconvert_exporter": "python",
   "pygments_lexer": "ipython3",
   "version": "3.11.8"
  }
 },
 "nbformat": 4,
 "nbformat_minor": 2
}
