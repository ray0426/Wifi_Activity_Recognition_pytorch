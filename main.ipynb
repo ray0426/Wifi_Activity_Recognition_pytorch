{
 "cells": [
  {
   "cell_type": "markdown",
   "metadata": {},
   "source": [
    "### Import packages"
   ]
  },
  {
   "cell_type": "code",
   "execution_count": 1,
   "metadata": {},
   "outputs": [],
   "source": [
    "import os\n",
    "import numpy as np\n",
    "import torch\n",
    "import torch.nn as nn\n",
    "from tqdm import tqdm\n",
    "import glob\n",
    "import time\n",
    "import pandas as pd\n",
    "from torch.utils.data import Dataset\n",
    "from torch.utils.data import DataLoader"
   ]
  },
  {
   "cell_type": "markdown",
   "metadata": {},
   "source": [
    "Check if have cuda device (GPU)"
   ]
  },
  {
   "cell_type": "code",
   "execution_count": 2,
   "metadata": {},
   "outputs": [
    {
     "name": "stdout",
     "output_type": "stream",
     "text": [
      "use cuda\n"
     ]
    }
   ],
   "source": [
    "device = \"cuda\" if torch.cuda.is_available() else \"cpu\"\n",
    "print(\"use\", device)"
   ]
  },
  {
   "cell_type": "markdown",
   "metadata": {},
   "source": [
    "### ML model"
   ]
  },
  {
   "cell_type": "code",
   "execution_count": 3,
   "metadata": {},
   "outputs": [],
   "source": [
    "class Model(nn.Module):\n",
    "\tdef __init__(self, n_input = 90, n_hidden = 128, num_layers=1, n_classes = 7):\n",
    "\t\tsuper(Model, self).__init__()\n",
    "\t\t\t\n",
    "\t\tself.rnn = nn.LSTM(input_size=n_input, hidden_size=n_hidden, num_layers=num_layers, batch_first=True, bidirectional=False)\n",
    "\t\tself.classifier = nn.Sequential(\n",
    "\t\t\tnn.Linear(n_hidden, n_classes)\n",
    "\t\t)\n",
    "\n",
    "\tdef forward(self, x):\n",
    "\t\t# (batch_size, n_steps, n_input)\n",
    "\t\tx, _ = self.rnn(x)\n",
    "\t\tx = self.classifier(x[:, -1, :])\n",
    "\t\treturn x"
   ]
  },
  {
   "cell_type": "markdown",
   "metadata": {},
   "source": [
    "### Dataset\n",
    "\n",
    "Prepare dataset for training"
   ]
  },
  {
   "cell_type": "code",
   "execution_count": 4,
   "metadata": {},
   "outputs": [],
   "source": [
    "class CSIDataset(Dataset):\n",
    "\tdef __init__(\n",
    "\t\t\tself, \n",
    "\t\t\tinput_path=\"./Dataset/Data/\", \n",
    "\t\t\tprocessed_path=\"./Dataset/Processed/\", \n",
    "\t\t\tuse_processed=True, \n",
    "\t\t\tsplit=\"train\",\n",
    "\t\t\ttrain_test_ratio=0.8,\n",
    "\t\t\twindow_size=1000, \n",
    "\t\t\tthreshold=60, \n",
    "\t\t\tslide_size=200\n",
    "\t\t\t):\n",
    "\t\tself.window_size = window_size\n",
    "\t\tself.threshold = threshold\n",
    "\t\tself.slide_size = slide_size\n",
    "\t\t# fix seed for reproduce\n",
    "\t\tnp.random.seed(0)\n",
    "\n",
    "\t\t# create processed data directory\n",
    "\t\tif not os.path.isdir(processed_path):\n",
    "\t\t\tos.makedirs(processed_path)\n",
    "\n",
    "\t\t# read and concat all data\n",
    "\t\tself.csi = []\n",
    "\t\tself.label = []\n",
    "\t\tfor i, label in enumerate ([\"bed\", \"fall\", \"pickup\", \"run\", \"sitdown\", \"standup\", \"walk\"]):\n",
    "\t\t\toutput_csi_fn = os.path.join(processed_path, label + \"_csi.csv\")\n",
    "\t\t\toutput_label_fn = os.path.join(processed_path, label + \"_label.csv\")\n",
    "\t\t\t# use processed, don't need to process again\n",
    "\t\t\tif use_processed and os.path.isfile(output_csi_fn) and os.path.isfile(output_label_fn):\n",
    "\t\t\t\tx = pd.read_csv(\n",
    "\t\t\t\t\toutput_csi_fn, \n",
    "\t\t\t\t\theader=None, \n",
    "\t\t\t\t\tengine=\"c\"\n",
    "\t\t\t\t\t).to_numpy().reshape((-1, self.window_size, 90))\n",
    "\t\t\t\ty = pd.read_csv(\n",
    "\t\t\t\t\toutput_label_fn, \n",
    "\t\t\t\t\theader=None, \n",
    "\t\t\t\t\tengine=\"c\"\n",
    "\t\t\t\t\t).to_numpy()\n",
    "\t\t\telse:\n",
    "\t\t\t\t# else, process now\n",
    "\t\t\t\tprint(\"No processed\", label, \"found, start process\")\n",
    "\t\t\t\tx = []\n",
    "\t\t\t\ty = []\n",
    "\t\t\t\tfilepath1 = os.path.join(input_path, \"input_*\" + str(label) + \"*.csv\")\n",
    "\t\t\t\tfilepath2 = os.path.join(input_path, \"annotation_*\" + str(label) + \"*.csv\")\n",
    "\t\t\t\tinput_csv_files = sorted(glob.glob(filepath1))\n",
    "\t\t\t\tannotation_csv_files = sorted(glob.glob(filepath2))\n",
    "\t\t\t\t# Because naming in the data are inconsistent, we process three part separately.\n",
    "\t\t\t\tinput_csv_files_sankalp = [fn for fn in input_csv_files if \"sankalp\" in fn]\n",
    "\t\t\t\tinput_csv_files_siamak = [fn for fn in input_csv_files if \"siamak\" in fn]\n",
    "\t\t\t\tinput_csv_files_date = [fn for fn in input_csv_files if (\"siamak\" not in fn and \"sankalp\" not in fn)]\n",
    "\t\t\t\tannotation_csv_files_sankalp = [fn for fn in annotation_csv_files if \"sankalp\" in fn]\n",
    "\t\t\t\tannotation_csv_files_siamak = [fn for fn in annotation_csv_files if \"siamak\" in fn]\n",
    "\t\t\t\tannotation_csv_files_date = [fn for fn in annotation_csv_files if (\"siamak\" not in fn and \"sankalp\" not in fn)]\n",
    "\t\t\t\tfor i in range(len(input_csv_files_sankalp)):\n",
    "\t\t\t\t\tif not int(input_csv_files_sankalp[i].split('input_')[1].split('.csv')[0].split('_')[-1]) == int(annotation_csv_files_sankalp[i].split('annotation_')[1].split('.csv')[0].split('_')[-1]):\n",
    "\t\t\t\t\t\t# file name of input and annotation(label) not match\n",
    "\t\t\t\t\t\traise \"error\"\n",
    "\t\t\t\t\telse:\n",
    "\t\t\t\t\t\tx_, y_ = self.process_data(input_csv_files_sankalp[i], annotation_csv_files_sankalp[i])\n",
    "\t\t\t\t\t\tx.append(x_)\n",
    "\t\t\t\t\t\ty.append(y_)\n",
    "\t\t\t\t\n",
    "\t\t\t\tfor i in range(len(input_csv_files_siamak)):\n",
    "\t\t\t\t\t# print(input_csv_files_siamak[i].split('input_')[1].split('.csv')[0], \"=\", annotation_csv_files_siamak[i].split('annotation_')[1].split('.csv')[0])\n",
    "\t\t\t\t\tif not int(input_csv_files_siamak[i].split('input_')[1].split('.csv')[0].split('_')[-1]) == int(annotation_csv_files_siamak[i].split('annotation_')[1].split('.csv')[0].split('_')[-1]):\n",
    "\t\t\t\t\t\traise \"error\"\n",
    "\t\t\t\t\telse:\n",
    "\t\t\t\t\t\tx_, y_ = self.process_data(input_csv_files_siamak[i], annotation_csv_files_siamak[i])\n",
    "\t\t\t\t\t\tx.append(x_)\n",
    "\t\t\t\t\t\ty.append(y_)\n",
    "\t\t\t\t\t\t\n",
    "\t\t\t\tfor i in range(len(input_csv_files_date)):\n",
    "\t\t\t\t\tif not int(input_csv_files_date[i].split('input_')[1].split('.csv')[0].split('_')[-1]) == int(annotation_csv_files_date[i].split('annotation_')[1].split('.csv')[0].split('_')[-1]):\n",
    "\t\t\t\t\t\traise \"error\"\n",
    "\t\t\t\t\telse:\n",
    "\t\t\t\t\t\tx_, y_ = self.process_data(input_csv_files_date[i], annotation_csv_files_date[i])\n",
    "\t\t\t\t\t\tx.append(x_)\n",
    "\t\t\t\t\t\ty.append(y_)\n",
    "\t\t\t\tx = np.concatenate(x, axis=0)\n",
    "\t\t\t\ty = np.concatenate(y, axis=0)\n",
    "\n",
    "\t\t\t\t# shuffle x and y together\n",
    "\t\t\t\tidxs = np.arange(x.shape[0])\n",
    "\t\t\t\tnp.random.shuffle(idxs)\n",
    "\t\t\t\tx = x[idxs]\n",
    "\t\t\t\ty = y[idxs]\n",
    "\n",
    "\t\t\t\t# save to file for the future use\n",
    "\t\t\t\tnp.savetxt(output_csi_fn, x.reshape((-1, self.window_size * 90)), delimiter = \",\", fmt='%.4f')\n",
    "\t\t\t\tnp.savetxt(output_label_fn, y, delimiter = \",\", fmt='%d')\n",
    "\t\t\t\n",
    "\t\t\tif split == \"train\":\n",
    "\t\t\t\t# 700 is for balance between 7 class\n",
    "\t\t\t\tself.csi.append(x[:int(x.shape[0] * train_test_ratio)])\n",
    "\t\t\t\tself.label.append(y[:int(x.shape[0] * train_test_ratio)])\n",
    "\t\t\telif split == \"test\":\n",
    "\t\t\t\tself.csi.append(x[int(x.shape[0] * train_test_ratio):])\n",
    "\t\t\t\tself.label.append(y[int(x.shape[0] * train_test_ratio):])\n",
    "\t\t\t\t\t\n",
    "\t\t\tprint(\"finish\", label)\n",
    "\t\tself.csi = np.concatenate(self.csi, axis=0)\n",
    "\t\tself.label = np.concatenate(self.label, axis=0)\n",
    "\t\tself.label = np.squeeze(self.label)\n",
    "\t\t# some statistic information\n",
    "\t\tunique, counts = np.unique(self.label, return_counts=True)\n",
    "\t\tprint(dict(zip(unique, counts)))\n",
    "\n",
    "\tdef process_data(self, csi_fn, label_fn):\n",
    "\t\tcsi_raw = pd.read_csv(\n",
    "\t\t\tcsi_fn, \n",
    "\t\t\theader=None, \n",
    "\t\t\tengine=\"c\"\n",
    "\t\t\t).to_numpy()\n",
    "\t\t#data import by slide window\n",
    "\t\tk = 0\n",
    "\t\tx_list = []\n",
    "\t\twhile k <= (len(csi_raw) + 1 - 2 * self.window_size):\n",
    "\t\t\t# for each row\n",
    "\t\t\t# 0: time\n",
    "\t\t\t# 1~91: amplitude\n",
    "\t\t\t# 91: 181: phase\n",
    "\t\t\tsingle_window = np.array(csi_raw[k:k + self.window_size, 1:91])\n",
    "\t\t\tx_list.append(single_window)\n",
    "\t\t\tk += self.slide_size\n",
    "\t\tx = np.dstack(x_list)\n",
    "\t\t# (window_size, feature, # samples)\n",
    "\t\tx = np.transpose(x, [2, 0, 1])\n",
    "\n",
    "\t\tlabel_raw = pd.read_csv(\n",
    "\t\t\tlabel_fn, \n",
    "\t\t\theader=None, \n",
    "\t\t\tengine=\"c\"\n",
    "\t\t\t).to_numpy()\n",
    "\t\t#data import by slide window\n",
    "\t\tk = 0\n",
    "\t\ty_list = []\n",
    "\t\twhile k <= (len(label_raw) + 1 - 2 * self.window_size):\n",
    "\t\t\tsingle_window = label_raw[k:k + self.window_size]\n",
    "\t\t\tbed = 0\n",
    "\t\t\tfall = 0\n",
    "\t\t\twalk = 0\n",
    "\t\t\tpickup = 0\n",
    "\t\t\trun = 0\n",
    "\t\t\tsitdown = 0\n",
    "\t\t\tstandup = 0\n",
    "\t\t\tnoactivity = 0\n",
    "\t\t\tfor j in range(self.window_size):\n",
    "\t\t\t\tif single_window[j] == \"bed\":\n",
    "\t\t\t\t\tbed += 1\n",
    "\t\t\t\telif single_window[j] == \"fall\":\n",
    "\t\t\t\t\tfall += 1\n",
    "\t\t\t\telif single_window[j] == \"pickup\":\n",
    "\t\t\t\t\tpickup += 1\n",
    "\t\t\t\telif single_window[j] == \"run\":\n",
    "\t\t\t\t\trun += 1\n",
    "\t\t\t\telif single_window[j] == \"sitdown\":\n",
    "\t\t\t\t\tsitdown += 1\n",
    "\t\t\t\telif single_window[j] == \"standup\":\n",
    "\t\t\t\t\tstandup += 1\n",
    "\t\t\t\telif single_window[j] == \"walk\":\n",
    "\t\t\t\t\twalk += 1\n",
    "\t\t\t\telse:\n",
    "\t\t\t\t\tnoactivity += 1\n",
    "\n",
    "\t\t\tif bed > self.window_size * self.threshold / 100:\n",
    "\t\t\t\ty_list.append(0)\n",
    "\t\t\telif fall > self.window_size * self.threshold / 100:\n",
    "\t\t\t\ty_list.append(1)\n",
    "\t\t\telif pickup > self.window_size * self.threshold / 100:\n",
    "\t\t\t\ty_list.append(2)\n",
    "\t\t\telif run > self.window_size * self.threshold / 100:\n",
    "\t\t\t\ty_list.append(3)\n",
    "\t\t\telif sitdown > self.window_size * self.threshold / 100:\n",
    "\t\t\t\ty_list.append(4)\n",
    "\t\t\telif standup > self.window_size * self.threshold / 100:\n",
    "\t\t\t\ty_list.append(5)\n",
    "\t\t\telif walk > self.window_size * self.threshold / 100:\n",
    "\t\t\t\ty_list.append(6)\n",
    "\t\t\telse:\n",
    "\t\t\t\ty_list.append(-1)\n",
    "\t\t\tk += self.slide_size\n",
    "\t\ty = np.array(y_list)\n",
    "\n",
    "\t\t# remove no activity\n",
    "\t\tmask = y != -1\n",
    "\t\tx = x[mask]\n",
    "\t\ty = y[mask]\n",
    "\t\treturn x, y\n",
    "\n",
    "\tdef __len__(self):\n",
    "\t\treturn self.csi.shape[0]\n",
    "\t\n",
    "\tdef __getitem__(self, idx):\n",
    "\t\treturn torch.tensor(self.csi[idx], dtype=torch.float), \\\n",
    "\t\t\ttorch.tensor(self.label[idx], dtype=torch.long)"
   ]
  },
  {
   "cell_type": "markdown",
   "metadata": {},
   "source": [
    "### Configs"
   ]
  },
  {
   "cell_type": "code",
   "execution_count": 5,
   "metadata": {},
   "outputs": [],
   "source": [
    "# Parameters\n",
    "input_path = \"./Dataset/Data/\"\n",
    "processed_path = \"./Dataset/Processed/\"\n",
    "use_processed = True\n",
    "window_size = 500\n",
    "threshold = 60\n",
    "slide_size = 400\n",
    "\n",
    "learning_rate = 0.00001\n",
    "training_epos = 2000\n",
    "batch_size = 128\n",
    "display_epo = 50\n",
    "\n",
    "model = Model()"
   ]
  },
  {
   "cell_type": "markdown",
   "metadata": {},
   "source": [
    "Dataset instance\n",
    "\n",
    "training set and testing set"
   ]
  },
  {
   "cell_type": "code",
   "execution_count": 6,
   "metadata": {},
   "outputs": [
    {
     "name": "stdout",
     "output_type": "stream",
     "text": [
      "finish bed\n",
      "finish fall\n",
      "finish pickup\n",
      "finish run\n",
      "finish sitdown\n",
      "finish standup\n",
      "finish walk\n",
      "{0: 536, 1: 375, 2: 405, 3: 980, 4: 340, 5: 252, 6: 1188}\n",
      "finish bed\n",
      "finish fall\n",
      "finish pickup\n",
      "finish run\n",
      "finish sitdown\n",
      "finish standup\n",
      "finish walk\n",
      "{0: 135, 1: 94, 2: 102, 3: 246, 4: 85, 5: 64, 6: 298}\n"
     ]
    }
   ],
   "source": [
    "train_set = CSIDataset(\n",
    "split=\"train\", \n",
    "window_size=window_size, \n",
    "threshold=threshold, \n",
    "slide_size=slide_size, \n",
    "use_processed=use_processed, \n",
    "input_path=input_path, \n",
    "processed_path=processed_path\n",
    ")\n",
    "test_set = CSIDataset(\n",
    "split=\"test\", \n",
    "window_size=window_size, \n",
    "threshold=threshold, \n",
    "slide_size=slide_size, \n",
    "use_processed=use_processed, \n",
    "input_path=input_path, \n",
    "processed_path=processed_path\n",
    ")"
   ]
  },
  {
   "cell_type": "markdown",
   "metadata": {},
   "source": [
    "### Dataloader, loss function and optimizer"
   ]
  },
  {
   "cell_type": "code",
   "execution_count": 7,
   "metadata": {},
   "outputs": [],
   "source": [
    "model.to(device)\n",
    "train_dataloader = DataLoader(train_set, batch_size=batch_size, num_workers=0, shuffle=True)\n",
    "test_dataloader = DataLoader(test_set, batch_size=batch_size, num_workers=0, shuffle=False)\n",
    "\n",
    "criterion = nn.CrossEntropyLoss().to(device)\n",
    "optimizer = torch.optim.Adam(model.parameters(), lr=learning_rate)\n"
   ]
  },
  {
   "cell_type": "markdown",
   "metadata": {},
   "source": [
    "### Training main loop"
   ]
  },
  {
   "cell_type": "code",
   "execution_count": 8,
   "metadata": {},
   "outputs": [
    {
     "name": "stderr",
     "output_type": "stream",
     "text": [
      "                                               \r"
     ]
    },
    {
     "name": "stdout",
     "output_type": "stream",
     "text": [
      "epo:  0 , train: 0.015981117660093823 , acc:  21.39 , time: 0.03\n"
     ]
    },
    {
     "name": "stderr",
     "output_type": "stream",
     "text": [
      "                                               \r"
     ]
    },
    {
     "name": "stdout",
     "output_type": "stream",
     "text": [
      "epo:  50 , train: 0.011835653397005135 , acc:  47.45 , time: 0.028\n"
     ]
    },
    {
     "name": "stderr",
     "output_type": "stream",
     "text": [
      "                                               \r"
     ]
    },
    {
     "name": "stdout",
     "output_type": "stream",
     "text": [
      "epo:  100 , train: 0.010469683223898442 , acc:  52.72 , time: 0.029\n"
     ]
    },
    {
     "name": "stderr",
     "output_type": "stream",
     "text": [
      "                                               \r"
     ]
    },
    {
     "name": "stdout",
     "output_type": "stream",
     "text": [
      "epo:  150 , train: 0.009496010964237321 , acc:  58.83 , time: 0.027\n"
     ]
    },
    {
     "name": "stderr",
     "output_type": "stream",
     "text": [
      "                                               \r"
     ]
    },
    {
     "name": "stdout",
     "output_type": "stream",
     "text": [
      "epo:  200 , train: 0.008630880268913958 , acc:  64.65 , time: 0.025\n"
     ]
    },
    {
     "name": "stderr",
     "output_type": "stream",
     "text": [
      "                                               \r"
     ]
    },
    {
     "name": "stdout",
     "output_type": "stream",
     "text": [
      "epo:  250 , train: 0.00784421622226704 , acc:  69.16 , time: 0.024\n"
     ]
    },
    {
     "name": "stderr",
     "output_type": "stream",
     "text": [
      "                                               \r"
     ]
    },
    {
     "name": "stdout",
     "output_type": "stream",
     "text": [
      "epo:  300 , train: 0.007144860448032413 , acc:  72.4 , time: 0.027\n"
     ]
    },
    {
     "name": "stderr",
     "output_type": "stream",
     "text": [
      "                                               \r"
     ]
    },
    {
     "name": "stdout",
     "output_type": "stream",
     "text": [
      "epo:  350 , train: 0.006542048171177229 , acc:  74.53 , time: 0.027\n"
     ]
    },
    {
     "name": "stderr",
     "output_type": "stream",
     "text": [
      "                                               \r"
     ]
    },
    {
     "name": "stdout",
     "output_type": "stream",
     "text": [
      "epo:  400 , train: 0.0060475947695461645 , acc:  76.42 , time: 0.026\n"
     ]
    },
    {
     "name": "stderr",
     "output_type": "stream",
     "text": [
      "                                               \r"
     ]
    },
    {
     "name": "stdout",
     "output_type": "stream",
     "text": [
      "epo:  450 , train: 0.005701899309153646 , acc:  77.09 , time: 0.028\n"
     ]
    },
    {
     "name": "stderr",
     "output_type": "stream",
     "text": [
      "                                               \r"
     ]
    },
    {
     "name": "stdout",
     "output_type": "stream",
     "text": [
      "epo:  500 , train: 0.00527367204924912 , acc:  78.93 , time: 0.025\n"
     ]
    },
    {
     "name": "stderr",
     "output_type": "stream",
     "text": [
      "                                               \r"
     ]
    },
    {
     "name": "stdout",
     "output_type": "stream",
     "text": [
      "epo:  550 , train: 0.004878592151888921 , acc:  80.03 , time: 0.026\n"
     ]
    },
    {
     "name": "stderr",
     "output_type": "stream",
     "text": [
      "                                               \r"
     ]
    },
    {
     "name": "stdout",
     "output_type": "stream",
     "text": [
      "epo:  600 , train: 0.004574928078087553 , acc:  81.53 , time: 0.027\n"
     ]
    },
    {
     "name": "stderr",
     "output_type": "stream",
     "text": [
      "                                               \r"
     ]
    },
    {
     "name": "stdout",
     "output_type": "stream",
     "text": [
      "epo:  650 , train: 0.00430157163543252 , acc:  83.19 , time: 0.025\n"
     ]
    },
    {
     "name": "stderr",
     "output_type": "stream",
     "text": [
      "                                               \r"
     ]
    },
    {
     "name": "stdout",
     "output_type": "stream",
     "text": [
      "epo:  700 , train: 0.0040371621775205984 , acc:  84.1 , time: 0.026\n"
     ]
    },
    {
     "name": "stderr",
     "output_type": "stream",
     "text": [
      "                                               \r"
     ]
    },
    {
     "name": "stdout",
     "output_type": "stream",
     "text": [
      "epo:  750 , train: 0.0038287635888973794 , acc:  85.06 , time: 0.026\n"
     ]
    },
    {
     "name": "stderr",
     "output_type": "stream",
     "text": [
      "                                               \r"
     ]
    },
    {
     "name": "stdout",
     "output_type": "stream",
     "text": [
      "epo:  800 , train: 0.0035960293933383616 , acc:  86.09 , time: 0.025\n"
     ]
    },
    {
     "name": "stderr",
     "output_type": "stream",
     "text": [
      "                                               \r"
     ]
    },
    {
     "name": "stdout",
     "output_type": "stream",
     "text": [
      "epo:  850 , train: 0.00340016551089123 , acc:  87.02 , time: 0.026\n"
     ]
    },
    {
     "name": "stderr",
     "output_type": "stream",
     "text": [
      "                                               \r"
     ]
    },
    {
     "name": "stdout",
     "output_type": "stream",
     "text": [
      "epo:  900 , train: 0.003252030347526015 , acc:  87.61 , time: 0.025\n"
     ]
    },
    {
     "name": "stderr",
     "output_type": "stream",
     "text": [
      "                                               \r"
     ]
    },
    {
     "name": "stdout",
     "output_type": "stream",
     "text": [
      "epo:  950 , train: 0.003084918979456661 , acc:  88.22 , time: 0.025\n"
     ]
    },
    {
     "name": "stderr",
     "output_type": "stream",
     "text": [
      "                                               \r"
     ]
    },
    {
     "name": "stdout",
     "output_type": "stream",
     "text": [
      "epo:  1000 , train: 0.0029262617135363774 , acc:  88.84 , time: 0.025\n"
     ]
    },
    {
     "name": "stderr",
     "output_type": "stream",
     "text": [
      "                                               \r"
     ]
    },
    {
     "name": "stdout",
     "output_type": "stream",
     "text": [
      "epo:  1050 , train: 0.0028170846673176496 , acc:  89.28 , time: 0.026\n"
     ]
    },
    {
     "name": "stderr",
     "output_type": "stream",
     "text": [
      "                                               \r"
     ]
    },
    {
     "name": "stdout",
     "output_type": "stream",
     "text": [
      "epo:  1100 , train: 0.002705941899835888 , acc:  89.79 , time: 0.025\n"
     ]
    },
    {
     "name": "stderr",
     "output_type": "stream",
     "text": [
      "                                               \r"
     ]
    },
    {
     "name": "stdout",
     "output_type": "stream",
     "text": [
      "epo:  1150 , train: 0.002579055426750146 , acc:  90.33 , time: 0.026\n"
     ]
    },
    {
     "name": "stderr",
     "output_type": "stream",
     "text": [
      "                                               \r"
     ]
    },
    {
     "name": "stdout",
     "output_type": "stream",
     "text": [
      "epo:  1200 , train: 0.0025045101487893937 , acc:  90.33 , time: 0.025\n"
     ]
    },
    {
     "name": "stderr",
     "output_type": "stream",
     "text": [
      "                                               \r"
     ]
    },
    {
     "name": "stdout",
     "output_type": "stream",
     "text": [
      "epo:  1250 , train: 0.00241546049143779 , acc:  91.02 , time: 0.026\n"
     ]
    },
    {
     "name": "stderr",
     "output_type": "stream",
     "text": [
      "                                               \r"
     ]
    },
    {
     "name": "stdout",
     "output_type": "stream",
     "text": [
      "epo:  1300 , train: 0.002299887487359557 , acc:  91.12 , time: 0.026\n"
     ]
    },
    {
     "name": "stderr",
     "output_type": "stream",
     "text": [
      "                                               \r"
     ]
    },
    {
     "name": "stdout",
     "output_type": "stream",
     "text": [
      "epo:  1350 , train: 0.0021822005071630655 , acc:  91.68 , time: 0.025\n"
     ]
    },
    {
     "name": "stderr",
     "output_type": "stream",
     "text": [
      "                                               \r"
     ]
    },
    {
     "name": "stdout",
     "output_type": "stream",
     "text": [
      "epo:  1400 , train: 0.0020866479370030147 , acc:  92.32 , time: 0.026\n"
     ]
    },
    {
     "name": "stderr",
     "output_type": "stream",
     "text": [
      "                                               \r"
     ]
    },
    {
     "name": "stdout",
     "output_type": "stream",
     "text": [
      "epo:  1450 , train: 0.00198624493285531 , acc:  92.54 , time: 0.025\n"
     ]
    },
    {
     "name": "stderr",
     "output_type": "stream",
     "text": [
      "                                               \r"
     ]
    },
    {
     "name": "stdout",
     "output_type": "stream",
     "text": [
      "epo:  1500 , train: 0.0018947424917272544 , acc:  92.91 , time: 0.026\n"
     ]
    },
    {
     "name": "stderr",
     "output_type": "stream",
     "text": [
      "                                               \r"
     ]
    },
    {
     "name": "stdout",
     "output_type": "stream",
     "text": [
      "epo:  1550 , train: 0.0018170751974907894 , acc:  93.18 , time: 0.025\n"
     ]
    },
    {
     "name": "stderr",
     "output_type": "stream",
     "text": [
      "                                               \r"
     ]
    },
    {
     "name": "stdout",
     "output_type": "stream",
     "text": [
      "epo:  1600 , train: 0.0017346243453563955 , acc:  93.45 , time: 0.025\n"
     ]
    },
    {
     "name": "stderr",
     "output_type": "stream",
     "text": [
      "                                               \r"
     ]
    },
    {
     "name": "stdout",
     "output_type": "stream",
     "text": [
      "epo:  1650 , train: 0.0016644493374202156 , acc:  93.74 , time: 0.023\n"
     ]
    },
    {
     "name": "stderr",
     "output_type": "stream",
     "text": [
      "                                               \r"
     ]
    },
    {
     "name": "stdout",
     "output_type": "stream",
     "text": [
      "epo:  1700 , train: 0.0015950006879756448 , acc:  94.14 , time: 0.024\n"
     ]
    },
    {
     "name": "stderr",
     "output_type": "stream",
     "text": [
      "                                               \r"
     ]
    },
    {
     "name": "stdout",
     "output_type": "stream",
     "text": [
      "epo:  1750 , train: 0.0015253482370018608 , acc:  94.31 , time: 0.024\n"
     ]
    },
    {
     "name": "stderr",
     "output_type": "stream",
     "text": [
      "                                               \r"
     ]
    },
    {
     "name": "stdout",
     "output_type": "stream",
     "text": [
      "epo:  1800 , train: 0.0014689438907800642 , acc:  94.55 , time: 0.023\n"
     ]
    },
    {
     "name": "stderr",
     "output_type": "stream",
     "text": [
      "                                               \r"
     ]
    },
    {
     "name": "stdout",
     "output_type": "stream",
     "text": [
      "epo:  1850 , train: 0.0014117827092437211 , acc:  94.7 , time: 0.024\n"
     ]
    },
    {
     "name": "stderr",
     "output_type": "stream",
     "text": [
      "                                               \r"
     ]
    },
    {
     "name": "stdout",
     "output_type": "stream",
     "text": [
      "epo:  1900 , train: 0.0013575906827826495 , acc:  94.85 , time: 0.024\n"
     ]
    },
    {
     "name": "stderr",
     "output_type": "stream",
     "text": [
      "                                               \r"
     ]
    },
    {
     "name": "stdout",
     "output_type": "stream",
     "text": [
      "epo:  1950 , train: 0.0012918476973156699 , acc:  95.12 , time: 0.024\n"
     ]
    },
    {
     "name": "stderr",
     "output_type": "stream",
     "text": [
      "                                               \r"
     ]
    }
   ],
   "source": [
    "train_losses = []\n",
    "for epoch_index in range(0, training_epos):\n",
    "    start_time = time.time()\n",
    "\n",
    "    train_loss = 0\n",
    "    model.train()\n",
    "    correct = 0\n",
    "    for batch in tqdm(train_dataloader, leave=False):\n",
    "        csi, label = batch\n",
    "        csi = csi.to(device)\n",
    "        label = label.to(device)\n",
    "\n",
    "        outputs = model(csi)\n",
    "        loss = criterion(outputs, label)\n",
    "        # calculate prediction accuracy\n",
    "        correct += torch.sum(outputs.argmax(dim=1) == label).cpu().item()\n",
    "\n",
    "        train_loss += loss.item()\n",
    "        loss.backward()\n",
    "        optimizer.step()\n",
    "\n",
    "    train_loss = train_loss / len(train_set)\n",
    "    accuracy = 100 * correct / len(train_set)\n",
    "    train_losses.append(train_loss)\n",
    "    end_time = time.time()\n",
    "    if epoch_index % display_epo == 0:\n",
    "        print('epo: ', epoch_index, \n",
    "            ', train:', train_loss,\n",
    "            ', acc: ', round(accuracy, 2),\n",
    "            ', time:', round((end_time - start_time) / 60, 3))\n"
   ]
  },
  {
   "cell_type": "markdown",
   "metadata": {},
   "source": [
    "### Testing (on testing set)"
   ]
  },
  {
   "cell_type": "code",
   "execution_count": 9,
   "metadata": {},
   "outputs": [
    {
     "name": "stderr",
     "output_type": "stream",
     "text": [
      "                                             "
     ]
    },
    {
     "name": "stdout",
     "output_type": "stream",
     "text": [
      "test: 0.0024281635123770684 , acc:  0.9 , time: 0.007\n"
     ]
    },
    {
     "name": "stderr",
     "output_type": "stream",
     "text": [
      "\r"
     ]
    }
   ],
   "source": [
    "test_label = []\n",
    "test_prediction = []\n",
    "test_loss = 0\n",
    "model.eval()\n",
    "start_time = time.time()\n",
    "for batch in tqdm(test_dataloader, leave=False):\n",
    "    csi, label = batch\n",
    "    csi = csi.to(device)\n",
    "    label = label.to(device)\n",
    "\n",
    "    outputs = model(csi)\n",
    "    loss = criterion(outputs, label)\n",
    "    test_prediction.append(outputs.argmax(dim=1).cpu().detach().numpy())\n",
    "    test_label.append(label.cpu().detach().numpy())\n",
    "\n",
    "    test_loss += loss.item()\n",
    "end_time = time.time()\n",
    "test_label = np.concatenate(test_label, axis=0)\n",
    "test_prediction = np.concatenate(test_prediction, axis=0)\n",
    "accuracy = np.sum(test_label == test_prediction) / test_label.shape[0]\n",
    "print('test:', test_loss / len(test_set),\n",
    "    ', acc: ', round(accuracy, 2),\n",
    "    ', time:', round((end_time - start_time) / 60, 3))\n",
    "confusion_matrix = np.zeros((7, 7))\n",
    "for i in range(test_label.shape[0]):\n",
    "    confusion_matrix[test_label[i], test_prediction[i]] += 1"
   ]
  },
  {
   "cell_type": "markdown",
   "metadata": {},
   "source": [
    "### Confusion matrix"
   ]
  },
  {
   "cell_type": "code",
   "execution_count": 10,
   "metadata": {},
   "outputs": [
    {
     "name": "stdout",
     "output_type": "stream",
     "text": [
      "[[111.   0.   6.   1.   8.   7.   2.]\n",
      " [  0.  92.   0.   0.   0.   0.   2.]\n",
      " [  4.   2.  85.   7.   0.   0.   4.]\n",
      " [  1.   0.   0. 238.   0.   2.   5.]\n",
      " [  4.   0.   3.   1.  66.   5.   6.]\n",
      " [  4.   1.   1.   2.   5.  49.   2.]\n",
      " [  1.   1.   0.   9.   1.   3. 283.]]\n"
     ]
    }
   ],
   "source": [
    "print(confusion_matrix)"
   ]
  }
 ],
 "metadata": {
  "kernelspec": {
   "display_name": "test_war2",
   "language": "python",
   "name": "python3"
  },
  "language_info": {
   "codemirror_mode": {
    "name": "ipython",
    "version": 3
   },
   "file_extension": ".py",
   "mimetype": "text/x-python",
   "name": "python",
   "nbconvert_exporter": "python",
   "pygments_lexer": "ipython3",
   "version": "3.11.8"
  }
 },
 "nbformat": 4,
 "nbformat_minor": 2
}
